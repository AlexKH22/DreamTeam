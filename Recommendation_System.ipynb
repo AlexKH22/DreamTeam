{
 "cells": [
  {
   "cell_type": "raw",
   "metadata": {
    "deletable": true,
    "editable": true
   },
   "source": [
    "Dependencies\n",
    "\"Saved_Files/\" folder with encoders (and models if you do not train them here)\n",
    "\"formated_data.csv\"\n",
    "\"Python packages\""
   ]
  },
  {
   "cell_type": "code",
   "execution_count": 1,
   "metadata": {
    "collapsed": false,
    "deletable": true,
    "editable": true
   },
   "outputs": [],
   "source": [
    "import pandas as pd\n",
    "import numpy as np\n",
    "\n",
    "from collections import Counter\n",
    "\n",
    "from sklearn.ensemble import GradientBoostingClassifier\n",
    "\n",
    "import pickle"
   ]
  },
  {
   "cell_type": "code",
   "execution_count": 2,
   "metadata": {
    "collapsed": true,
    "deletable": true,
    "editable": true
   },
   "outputs": [],
   "source": [
    "anclr_products = ['Keyloss', 'Paint', 'Tires', 'Windshield']"
   ]
  },
  {
   "cell_type": "code",
   "execution_count": 3,
   "metadata": {
    "collapsed": true,
    "deletable": true,
    "editable": true
   },
   "outputs": [],
   "source": [
    "# Train and save final models\n",
    "def train_final_models():\n",
    "    data, X, y_values = read_data()\n",
    "    \n",
    "    for i, y in enumerate(anclr_products):\n",
    "        model = GradientBoostingClassifier(max_depth=5, random_state=0)\n",
    "        model.fit(X, y_values[:, i])\n",
    "\n",
    "        pickle.dump(model, open('Saved_Files/' + y + '.sav', 'wb'), protocol=2)"
   ]
  },
  {
   "cell_type": "code",
   "execution_count": 4,
   "metadata": {
    "collapsed": true,
    "deletable": true,
    "editable": true
   },
   "outputs": [],
   "source": [
    "# Complete copy of np.mode with some modifications\n",
    "def get_mode(a, axis=0):\n",
    "    a = np.array(a)\n",
    "    scores = np.unique(np.ravel(a)) \n",
    "    testshape = list(a.shape)\n",
    "    testshape[axis] = 1\n",
    "    oldmostfreq = np.zeros(testshape)\n",
    "    oldcounts = np.zeros(testshape)\n",
    "\n",
    "    for score in scores:\n",
    "        template = (a == score)\n",
    "        counts = np.expand_dims(np.sum(template, axis),axis)\n",
    "        mostfrequent = np.where(counts > oldcounts, score, oldmostfreq)\n",
    "        oldcounts = np.maximum(counts, oldcounts)\n",
    "        oldmostfreq = mostfrequent\n",
    "\n",
    "    return mostfrequent, oldcounts"
   ]
  },
  {
   "cell_type": "code",
   "execution_count": 5,
   "metadata": {
    "collapsed": true,
    "deletable": true,
    "editable": true
   },
   "outputs": [],
   "source": [
    "# Data is already encoded\n",
    "def read_data():\n",
    "    data = pd.read_csv(\"formated_data.csv\")\n",
    "    data = data.iloc[:200000]\n",
    "    data = data[(data['Keyloss'] != 0) | \n",
    "                (data['Paint'] != 0) |\n",
    "                (data['Windshield'] != 0) |\n",
    "                (data['Tires'] != 0)]\n",
    "    \n",
    "    y_values = data[anclr_products]  \n",
    "    y_values = [data[product] for product in anclr_products]\n",
    "    y_values = np.array(y_values).T\n",
    "    # Delete columns with products\n",
    "    X = np.array(data.drop(anclr_products, axis=1))\n",
    "    \n",
    "    return data, X, y_values"
   ]
  },
  {
   "cell_type": "raw",
   "metadata": {
    "deletable": true,
    "editable": true
   },
   "source": [
    "# Find users like you (sometimes fails due to the lack of similar users)\n",
    "# Do not run\n",
    "def get_similar_users(test_sample):\n",
    "    \n",
    "    def shrink_data(data, test_sample):\n",
    "        data_shrinked = data[(data['Age'] < test_sample[0]+10) & \n",
    "                     (data['Age'] > test_sample[0]-10) &\n",
    "                     (data['Behavior'] == test_sample[1]) & \n",
    "                     (data['Location'] == test_sample[2]) &\n",
    "                     (data['Usage'] < test_sample[-1]+5) & \n",
    "                     (data['Usage'] > test_sample[-1]-5)]\n",
    "        \n",
    "        data_shrinked = data_shrinked[(data_shrinked['Behavior'] == test_sample[1]) & \n",
    "                              (data_shrinked['Location'] == test_sample[2])]\n",
    "        \n",
    "        return data_shrinked\n",
    "    \n",
    "    def binary_encoding(data):\n",
    "        return data['Keyloss']*8+data['Paint']*4+data['Windshield']*2+data['Tires']*1\n",
    "    \n",
    "    def masking(data, selectors):\n",
    "        # compress('ABCDEF', [1,0,1,0,1,1]) --> A C E F\n",
    "        return list(d for d, s in zip(data, selectors) if s)\n",
    "    \n",
    "    data, X, y_values = read_data()\n",
    "        \n",
    "    binary = binary_encoding(data)\n",
    "    \n",
    "    c = dict(Counter(binary))\n",
    "    \n",
    "    # Pick 5 most common bundles except 0 and convert to binary\n",
    "    bundles_keys = [bin(num)[2:].zfill(4) for num in sorted(c, key=c.get, reverse=True)[:5]]\n",
    "    \n",
    "    data_shrinked = shrink_data(data, test_sample)\n",
    "        \n",
    "    data_bundles = np.array(data_shrinked[anclr_products])\n",
    "    \n",
    "    relevant_bundles = [''.join(map(str, bundle)) for bundle in data_bundles \n",
    "                        if ''.join(map(str, bundle)) in bundles_keys]\n",
    "    \n",
    "    \n",
    "    top_bundle = list(get_mode(relevant_bundles, axis=0)[0][0])\n",
    "    top_bundle = [int(prod) for prod in top_bundle]\n",
    "    \n",
    "    return masking(anclr_products, top_bundle)"
   ]
  },
  {
   "cell_type": "code",
   "execution_count": 6,
   "metadata": {
    "collapsed": true,
    "deletable": true,
    "editable": true
   },
   "outputs": [],
   "source": [
    "def get_recommendations(test_sample):\n",
    "    # load the model from disk\n",
    "    predictions = {\"Keyloss\": 0,\n",
    "                   \"Paint\": 0,\n",
    "                   \"Tires\": 0,\n",
    "                   \"Windshield\": 0,\n",
    "                   \"User\": 0}\n",
    "    \n",
    "    for i, y in enumerate(anclr_products):\n",
    "        model = pickle.load(open('Saved_Files/' + y + '.sav', 'rb'))\n",
    "        predictions[y] += model.predict_proba(np.array(test_sample).reshape(1, -1))[0][1]\n",
    "    \n",
    "    \n",
    "    most_probable = sorted(list(predictions.values()))[-2:]\n",
    "    for key, value in predictions.items():\n",
    "        if value in most_probable:\n",
    "            predictions[key] = 1\n",
    "        else:\n",
    "            predictions[key] = 0\n",
    "\n",
    "#     similar = get_similar_users(test_sample)\n",
    "#     predictions[\"User\"] = similar # 0 until we find a similar user\n",
    "      \n",
    "    return predictions"
   ]
  },
  {
   "cell_type": "code",
   "execution_count": 7,
   "metadata": {
    "collapsed": true,
    "deletable": true,
    "editable": true
   },
   "outputs": [],
   "source": [
    "# Extract label encoders and transform test sample\n",
    "def encode_test(test_sample):\n",
    "    features_to_transform = [\"Behavior\", \"Location\", \"Parking Space\", \"Purpose\"]\n",
    "    for feature in features_to_transform:\n",
    "        encoder = pickle.load(open('Saved_Files/' + feature + '.enc', 'rb'))\n",
    "        if feature == \"Parking Space\" or feature == \"Purpose\":\n",
    "            test_sample[feature] = encoder.transform([\"\".join(sorted(test_sample[feature].split(\"|\")))])[0]\n",
    "        else:\n",
    "            test_sample[feature] = encoder.transform([test_sample[feature]])[0]"
   ]
  },
  {
   "cell_type": "markdown",
   "metadata": {
    "deletable": true,
    "editable": true
   },
   "source": [
    "### Model"
   ]
  },
  {
   "cell_type": "code",
   "execution_count": 9,
   "metadata": {
    "collapsed": true,
    "deletable": true,
    "editable": true
   },
   "outputs": [],
   "source": [
    "train_final_models()"
   ]
  },
  {
   "cell_type": "code",
   "execution_count": 10,
   "metadata": {
    "collapsed": false,
    "deletable": true,
    "editable": true
   },
   "outputs": [
    {
     "name": "stdout",
     "output_type": "stream",
     "text": [
      "Input: \n",
      "{'Age': 31, 'Behavior': 'Neutral', 'Location': 'NE', 'Parking Space': 'Parkinglot/R', 'Purpose': 'Traveling', 'Usage': 15}\n",
      "Output: \n",
      "{'Keyloss': 0, 'Paint': 0, 'Tires': 1, 'Windshield': 1, 'User': 0}\n",
      "\n",
      "Input: \n",
      "{'Age': 31, 'Behavior': 'Neutral', 'Location': 'NE', 'Parking Space': 'Parkinglot/R', 'Purpose': 'Working', 'Usage': 7}\n",
      "Output: \n",
      "{'Keyloss': 0, 'Paint': 0, 'Tires': 1, 'Windshield': 1, 'User': 0}\n",
      "\n",
      "Input: \n",
      "{'Age': 42, 'Behavior': 'Neutral', 'Location': 'S', 'Parking Space': 'Garage', 'Purpose': 'Leisure', 'Usage': 25}\n",
      "Output: \n",
      "{'Keyloss': 0, 'Paint': 0, 'Tires': 1, 'Windshield': 1, 'User': 0}\n",
      "\n",
      "Input: \n",
      "{'Age': 35, 'Behavior': 'Aggressive', 'Location': 'MW', 'Parking Space': 'Garage', 'Purpose': 'Working', 'Usage': 21}\n",
      "Output: \n",
      "{'Keyloss': 0, 'Paint': 1, 'Tires': 0, 'Windshield': 1, 'User': 0}\n",
      "\n",
      "Input: \n",
      "{'Age': 71, 'Behavior': 'Neutral', 'Location': 'W', 'Parking Space': 'Parkinglot', 'Purpose': 'Working', 'Usage': 16}\n",
      "Output: \n",
      "{'Keyloss': 0, 'Paint': 1, 'Tires': 0, 'Windshield': 1, 'User': 0}\n",
      "\n",
      "Input: \n",
      "{'Age': 31, 'Behavior': 'Aggressive', 'Location': 'W', 'Parking Space': 'Parkinglot', 'Purpose': 'Traveling', 'Usage': 25}\n",
      "Output: \n"
     ]
    },
    {
     "name": "stderr",
     "output_type": "stream",
     "text": [
      "/Users/AlexKH/Library/Python/3.6/lib/python/site-packages/sklearn/base.py:311: UserWarning: Trying to unpickle estimator LabelEncoder from version 0.18.1 when using version 0.19.1. This might lead to breaking code or invalid results. Use at your own risk.\n",
      "  UserWarning)\n"
     ]
    },
    {
     "name": "stdout",
     "output_type": "stream",
     "text": [
      "{'Keyloss': 0, 'Paint': 0, 'Tires': 1, 'Windshield': 1, 'User': 0}\n",
      "\n",
      "Input: \n",
      "{'Age': 31, 'Behavior': 'Neutral', 'Location': 'W', 'Parking Space': 'Parkinglot/R', 'Purpose': 'Working', 'Usage': 17}\n",
      "Output: \n",
      "{'Keyloss': 0, 'Paint': 1, 'Tires': 0, 'Windshield': 1, 'User': 0}\n",
      "\n",
      "Input: \n",
      "{'Age': 38, 'Behavior': 'Neutral', 'Location': 'MW', 'Parking Space': 'Parkinglot/R', 'Purpose': 'Leisure', 'Usage': 19}\n",
      "Output: \n",
      "{'Keyloss': 0, 'Paint': 1, 'Tires': 1, 'Windshield': 0, 'User': 0}\n",
      "\n",
      "Input: \n",
      "{'Age': 46, 'Behavior': 'Aggressive', 'Location': 'NE', 'Parking Space': 'Street', 'Purpose': 'Racing', 'Usage': 6}\n",
      "Output: \n",
      "{'Keyloss': 0, 'Paint': 1, 'Tires': 1, 'Windshield': 0, 'User': 0}\n",
      "\n",
      "Input: \n",
      "{'Age': 68, 'Behavior': 'Neutral', 'Location': 'NE', 'Parking Space': 'Parkinglot/R', 'Purpose': 'Traveling', 'Usage': 7}\n",
      "Output: \n",
      "{'Keyloss': 0, 'Paint': 0, 'Tires': 1, 'Windshield': 1, 'User': 0}\n",
      "\n"
     ]
    }
   ],
   "source": [
    "#test_sample = {\"Age\": 24, # (16 - 99)\n",
    "#               \"Behavior\": \"Aggressive\", # (Passive - Neutral - Aggressive)\n",
    " #              \"Location\": \"W\", #(W, MW, NE, S)\n",
    "  #             \"Parking Space\": \"Garage|Parkinglot/R|Street\", # (Garage, Parkinglot, Parkinglot/R, Street) Multiple options possible\n",
    "   #            \"Purpose\": \"Commuting\", # (Racing, Leisure, Working, Commuting, Traveling) Multiple options possible\n",
    "    #           \"Usage\": 15} # (1 - 30)\n",
    "\n",
    "\n",
    "samples = []\n",
    "for i in range(10):\n",
    "    samples.append({\"Age\": np.random.randint(16, 80),\n",
    "                  \"Behavior\": np.random.choice([\"Passive\", \"Neutral\", \"Aggressive\"]),\n",
    "                  \"Location\": np.random.choice([\"W\", \"MW\", \"NE\", \"S\"]),\n",
    "                  \"Parking Space\": np.random.choice([\"Garage\", \"Parkinglot\", \"Parkinglot/R\", \"Street\"]),\n",
    "                  \"Purpose\": np.random.choice([\"Racing\", \"Leisure\", \"Working\", \"Commuting\", \"Traveling\"]),\n",
    "                  \"Usage\": np.random.randint(5, 30)})\n",
    "\n",
    "# Recommend 2 most probable products\n",
    "# Similar user is 0 until we find a similar user\n",
    "for sample in samples:\n",
    "    print(\"Input: \")\n",
    "    print(sample)\n",
    "    encode_test(sample)\n",
    "    print(\"Output: \")\n",
    "    print(get_recommendations(list(sample.values())))\n",
    "    print()"
   ]
  },
  {
   "cell_type": "code",
   "execution_count": null,
   "metadata": {
    "collapsed": true,
    "deletable": true,
    "editable": true
   },
   "outputs": [],
   "source": []
  }
 ],
 "metadata": {
  "kernelspec": {
   "display_name": "Python 3",
   "language": "python",
   "name": "python3"
  },
  "language_info": {
   "codemirror_mode": {
    "name": "ipython",
    "version": 3
   },
   "file_extension": ".py",
   "mimetype": "text/x-python",
   "name": "python",
   "nbconvert_exporter": "python",
   "pygments_lexer": "ipython3",
   "version": "3.6.0"
  }
 },
 "nbformat": 4,
 "nbformat_minor": 2
}
